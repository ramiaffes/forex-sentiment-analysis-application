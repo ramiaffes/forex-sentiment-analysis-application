{
 "cells": [
  {
   "cell_type": "code",
   "execution_count": 1,
   "id": "ff520198-369a-4f88-9dfc-2433a591d5bf",
   "metadata": {},
   "outputs": [],
   "source": [
    "# Import libraries\n",
    "import re\n",
    "import pandas as pd "
   ]
  },
  {
   "cell_type": "code",
   "execution_count": 2,
   "id": "17638611-e92c-4610-ac94-a2a571bae49a",
   "metadata": {},
   "outputs": [],
   "source": [
    "# Define a function to clean Forex-related text\n",
    "def clean_forex_text(text):\n",
    "\n",
    "    # Remove URLs\n",
    "    text = re.sub(r\"http\\S+|www\\S+|https\\S+\", \"\", text)\n",
    "\n",
    "    # Remove mentions (@username) and hashtags (#Forex)\n",
    "    text = re.sub(r\"@\\w+|#\\w+\", \"\", text)\n",
    "\n",
    "    # Remove special characters and numbers (keeping basic punctuation)\n",
    "    text = re.sub(r\"[^a-zA-Z\\s]\", \"\", text)\n",
    "    \n",
    "    # Remove extra spaces\n",
    "    text = re.sub(r\"\\s+\", \" \", text).strip()\n",
    "    \n",
    "    return text\n"
   ]
  },
  {
   "cell_type": "code",
   "execution_count": 3,
   "id": "07008dad-d8bf-4b21-b6ac-d356f56bf244",
   "metadata": {},
   "outputs": [],
   "source": [
    "# Load the dataset from a CSV file\n",
    "df = pd.read_csv(\"data/forex_news.csv\")"
   ]
  },
  {
   "cell_type": "code",
   "execution_count": 4,
   "id": "a1552504-54d9-4ea6-bfdb-ada85c7fa5b0",
   "metadata": {},
   "outputs": [],
   "source": [
    "# Apply text cleaning function to the 'news' column\n",
    "df[\"news\"]=df[\"news\"].apply(clean_forex_text)"
   ]
  },
  {
   "cell_type": "code",
   "execution_count": 5,
   "id": "7ebe3f31-a92f-4cf1-99cb-745ab0721c56",
   "metadata": {},
   "outputs": [],
   "source": [
    "# Save the cleaned dataset\n",
    "df.to_csv(\"data/forex_news.csv\", index=False)"
   ]
  }
 ],
 "metadata": {
  "kernelspec": {
   "display_name": "Python 3 (ipykernel)",
   "language": "python",
   "name": "python3"
  },
  "language_info": {
   "codemirror_mode": {
    "name": "ipython",
    "version": 3
   },
   "file_extension": ".py",
   "mimetype": "text/x-python",
   "name": "python",
   "nbconvert_exporter": "python",
   "pygments_lexer": "ipython3",
   "version": "3.11.5"
  }
 },
 "nbformat": 4,
 "nbformat_minor": 5
}
