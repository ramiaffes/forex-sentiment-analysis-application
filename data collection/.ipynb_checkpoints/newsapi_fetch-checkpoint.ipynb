{
 "cells": [
  {
   "cell_type": "code",
   "execution_count": 5,
   "id": "4f9520bb-2b64-4323-90b2-ec6ed6a0e686",
   "metadata": {},
   "outputs": [],
   "source": [
    "# Installing packages \n",
    "import requests\n",
    "import os\n",
    "from dotenv import load_dotenv\n",
    "import pandas as pd\n"
   ]
  },
  {
   "cell_type": "code",
   "execution_count": null,
   "id": "de371615-a51b-4591-8557-30e2e7b93bbd",
   "metadata": {},
   "outputs": [],
   "source": [
    "# Loading API keys from .env\n",
    "load_dotenv()\n",
    "NEWSAPI_KEY = os.getenv(\"NEWSAPI_KEY\")"
   ]
  },
  {
   "cell_type": "code",
   "execution_count": 6,
   "id": "11d9b49b-aa3d-4077-a8c9-a77d2fadc0bb",
   "metadata": {},
   "outputs": [
    {
     "name": "stdout",
     "output_type": "stream",
     "text": [
      "{'source': {'id': 'il-sole-24-ore', 'name': 'Il Sole 24 Ore'}, 'author': None, 'title': 'Assiom Forex 2025', 'description': None, 'url': 'https://www.ilsole24ore.com/art/assiom-forex-2025-AG6J34iC', 'urlToImage': None, 'publishedAt': '2025-02-04T21:07:22Z', 'content': 'ServizioServizioContenuto basato su fatti, osservati e verificati dal reporter in modo diretto o riportati da fonti verificate e attendibili.Scopri di più\\r\\n4 febbraio 2025'}\n"
     ]
    }
   ],
   "source": [
    "# Defining the NewsAPI endpoint for Forex news\n",
    "url = f\"https://newsapi.org/v2/everything?q=forex&apiKey={NEWSAPI_KEY}\"\n",
    "\n",
    "# Sending the request\n",
    "response = requests.get(url)\n",
    "\n",
    "# Converting response to JSON\n",
    "data = response.json()\n"
   ]
  },
  {
   "cell_type": "code",
   "execution_count": null,
   "id": "d4e8ba43-5ec1-4681-9b33-d295e16e9e27",
   "metadata": {},
   "outputs": [],
   "source": [
    "save_path = \"data/raw/\"\n",
    "os.makedirs(save_path, exist_ok=True) \n",
    "\n",
    "# Saving the DataFrame as CSV\n",
    "df.to_csv(os.path.join(save_path, \"forex_news.csv\"), index=False)\n",
    "\n",
    "print(f\"✅ Data saved to {save_path}forex_news.csv\")\n"
   ]
  }
 ],
 "metadata": {
  "kernelspec": {
   "display_name": "Python 3 (ipykernel)",
   "language": "python",
   "name": "python3"
  },
  "language_info": {
   "codemirror_mode": {
    "name": "ipython",
    "version": 3
   },
   "file_extension": ".py",
   "mimetype": "text/x-python",
   "name": "python",
   "nbconvert_exporter": "python",
   "pygments_lexer": "ipython3",
   "version": "3.11.5"
  }
 },
 "nbformat": 4,
 "nbformat_minor": 5
}
