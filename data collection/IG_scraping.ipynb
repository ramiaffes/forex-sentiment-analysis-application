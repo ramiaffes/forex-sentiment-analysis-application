{
 "cells": [
  {
   "cell_type": "code",
   "execution_count": null,
   "id": "ff386d13-a105-46e4-8cfa-befa0449b71a",
   "metadata": {},
   "outputs": [],
   "source": [
    "# Install packages \n",
    "import os\n",
    "import pandas as pd\n",
    "import time\n",
    "from transformers import pipeline\n",
    "from bs4 import BeautifulSoup\n",
    "from selenium import webdriver\n",
    "from selenium.webdriver.chrome.options import Options\n",
    "from selenium.webdriver.common.by import By\n",
    "from selenium.webdriver.support.ui import WebDriverWait\n",
    "from selenium.webdriver.chrome.service import Service\n",
    "from selenium.webdriver.support import expected_conditions as EC\n",
    "from fake_useragent import UserAgent\n",
    "import undetected_chromedriver as uc\n",
    "from selenium.common.exceptions import TimeoutException, NoSuchElementException, ElementClickInterceptedException"
   ]
  },
  {
   "cell_type": "code",
   "execution_count": null,
   "id": "9abe0906-f819-4302-8cfc-337a4eb72f18",
   "metadata": {},
   "outputs": [],
   "source": [
    "# URL of Forex Factory News\n",
    "chrome_options = Options()\n",
    "url = \"https://www.forexfactory.com/news\"\n",
    "chrome_options.add_argument(\"--disable-blink-features=AutomationControlled\") "
   ]
  },
  {
   "cell_type": "code",
   "execution_count": null,
   "id": "c147e451-861f-4d4b-9043-fa94af0c076d",
   "metadata": {},
   "outputs": [],
   "source": [
    "ua = UserAgent()\n",
    "chrome_options.add_argument(f\"user-agent={ua.random}\")"
   ]
  },
  {
   "cell_type": "code",
   "execution_count": null,
   "id": "488aeed4-9ba0-426a-abe3-b99a67df98a1",
   "metadata": {},
   "outputs": [],
   "source": [
    "driver = uc.Chrome()\n",
    "driver.get(url)\n",
    "time.sleep(3)"
   ]
  },
  {
   "cell_type": "code",
   "execution_count": null,
   "id": "c4d60d9f-86f8-4263-9895-6b3bd703c836",
   "metadata": {},
   "outputs": [],
   "source": [
    "driver.get(\"https://www.ig.com/en/tag/forex\")"
   ]
  },
  {
   "cell_type": "code",
   "execution_count": null,
   "id": "f3a17b01-cdbe-42c6-af11-741ce0dbc860",
   "metadata": {},
   "outputs": [],
   "source": [
    "try:\n",
    "    # Wait for the cookie popup and click \"Accepter\"\n",
    "    accept_button = WebDriverWait(driver, 10).until(\n",
    "        EC.element_to_be_clickable((By.XPATH, \"//button[contains(text(), 'Accepter')]\"))\n",
    "    )\n",
    "    accept_button.click()\n",
    "    print(\"Cookie banner accepted.\")\n",
    "    time.sleep(2)  # Wait for any animations to complete\n",
    "\n",
    "except Exception as e:\n",
    "    print(\"No cookie popup found or error occurred:\", e)"
   ]
  },
  {
   "cell_type": "code",
   "execution_count": null,
   "id": "2de69c9c-98ad-4da9-bdb5-8964319c3a25",
   "metadata": {},
   "outputs": [],
   "source": [
    "\n",
    "\n",
    "# Number of times to attempt clicking the button\n",
    "max_attempts = 150\n",
    "\n",
    "for attempt in range(max_attempts):\n",
    "    try:\n",
    "        print(f\"Attempt {attempt + 1}/{max_attempts}\")\n",
    "\n",
    "        # Wait for the button to be clickable\n",
    "        more_button = WebDriverWait(driver, 10).until(\n",
    "            EC.element_to_be_clickable((By.XPATH, \"//button[contains(@class, 'more-results-button')]\"))\n",
    "        )\n",
    "\n",
    "        # Add a random delay\n",
    "        time.sleep(3)\n",
    "\n",
    "        # Scroll to the button\n",
    "        driver.execute_script(\"arguments[0].scrollIntoView();\", more_button)\n",
    "        \n",
    "        # Add another random delay\n",
    "        time.sleep(3)\n",
    "\n",
    "        # Click the button\n",
    "        driver.execute_script(\"arguments[0].click();\", more_button)\n",
    "\n",
    "        # Random delay after clicking\n",
    "        time.sleep(3)\n",
    "\n",
    "    except (TimeoutException, NoSuchElementException, ElementClickInterceptedException) as e:\n",
    "        print(f\"Exception occurred on attempt {attempt + 1}: {e}\")\n",
    "        print(\"Button is no longer available or page has changed. Stopping script.\")\n",
    "        break  # Exit the loop when the button is not found or not clickable"
   ]
  },
  {
   "cell_type": "code",
   "execution_count": null,
   "id": "ffaaab5d-8779-4749-b386-3f4623168cb1",
   "metadata": {},
   "outputs": [],
   "source": [
    "response = driver.page_source\n",
    "soup = BeautifulSoup(response, \"html.parser\")\n",
    "articles=[]\n",
    "for var in soup.find_all('h2',class_=\"article-result__title\"):\n",
    "    articles.append(var.get_text(strip=True))\n",
    "articles.remove('Article result template')"
   ]
  },
  {
   "cell_type": "code",
   "execution_count": null,
   "id": "bb342394-09cb-4b7b-bdfd-d179240432d0",
   "metadata": {},
   "outputs": [],
   "source": [
    "# Load FinBERT model\n",
    "finbert = pipeline(\"sentiment-analysis\", model=\"ProsusAI/finbert\")\n",
    "# Function to classify sentiment using FinBERT\n",
    "def classify_sentiment(text):\n",
    "    result = finbert(text)[0] \n",
    "    return result[\"label\"]  "
   ]
  },
  {
   "cell_type": "code",
   "execution_count": null,
   "id": "4439480b-ad78-4006-941d-785cf84d6dab",
   "metadata": {},
   "outputs": [],
   "source": [
    "df = pd.read_csv(\"data/forex_news.csv\")\n",
    "df = pd.concat([df, pd.DataFrame({'news': articles, 'labels': list(map(classify_sentiment, articles))})], axis=0, ignore_index=True)\n",
    "df = df.drop_duplicates().reset_index(drop=True)  "
   ]
  },
  {
   "cell_type": "code",
   "execution_count": null,
   "id": "10512adc-f6cb-4830-b6f3-53560a50da0e",
   "metadata": {},
   "outputs": [],
   "source": [
    "df['news'] = df['news'].fillna('')\n",
    "df=df[['news', 'labels']]\n",
    "df.to_csv(\"data/forex_news.csv\")"
   ]
  }
 ],
 "metadata": {
  "kernelspec": {
   "display_name": "Python 3 (ipykernel)",
   "language": "python",
   "name": "python3"
  },
  "language_info": {
   "codemirror_mode": {
    "name": "ipython",
    "version": 3
   },
   "file_extension": ".py",
   "mimetype": "text/x-python",
   "name": "python",
   "nbconvert_exporter": "python",
   "pygments_lexer": "ipython3",
   "version": "3.11.5"
  }
 },
 "nbformat": 4,
 "nbformat_minor": 5
}
