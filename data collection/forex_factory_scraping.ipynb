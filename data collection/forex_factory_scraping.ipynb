{
 "cells": [
  {
   "cell_type": "code",
   "execution_count": null,
   "id": "c780f1b3-e475-4ced-a553-142ee849bd65",
   "metadata": {},
   "outputs": [],
   "source": [
    "# Install packages \n",
    "import pandas as pd\n",
    "import time\n",
    "from transformers import pipeline\n",
    "from bs4 import BeautifulSoup\n",
    "from selenium import webdriver\n",
    "from selenium.webdriver.chrome.options import Options\n",
    "from selenium.webdriver.common.by import By\n",
    "from selenium.webdriver.support.ui import WebDriverWait\n",
    "from selenium.webdriver.support import expected_conditions as EC\n",
    "from fake_useragent import UserAgent\n",
    "import undetected_chromedriver as uc"
   ]
  },
  {
   "cell_type": "code",
   "execution_count": null,
   "id": "d3ba5ec1-ffe1-4159-b9b7-67af61d6b92a",
   "metadata": {},
   "outputs": [],
   "source": [
    "# URL of Forex Factory News\n",
    "chrome_options = Options()\n",
    "url = \"https://www.forexfactory.com/news\"\n",
    "chrome_options.add_argument(\"--disable-blink-features=AutomationControlled\") "
   ]
  },
  {
   "cell_type": "code",
   "execution_count": null,
   "id": "555ea987-aa4e-4c1f-8290-be7cdbbf7c53",
   "metadata": {},
   "outputs": [],
   "source": [
    "ua = UserAgent()\n",
    "chrome_options.add_argument(f\"user-agent={ua.random}\")"
   ]
  },
  {
   "cell_type": "code",
   "execution_count": null,
   "id": "4a92e248-d03e-466b-8d05-6d606e56be6e",
   "metadata": {},
   "outputs": [],
   "source": [
    "driver = uc.Chrome()\n",
    "driver.get(url)\n",
    "time.sleep(3)"
   ]
  },
  {
   "cell_type": "code",
   "execution_count": null,
   "id": "aaff9fd3-ac31-4ba7-b842-be3f1f89642b",
   "metadata": {},
   "outputs": [],
   "source": [
    "# Wait for the button to be clickable\n",
    "for _ in range(4): \n",
    "    more_button = WebDriverWait(driver, 10).until(\n",
    "    EC.element_to_be_clickable((By.XPATH, \"//a[contains(@class, 'flexMore')]\")))\n",
    "    driver.execute_script(\"arguments[0].scrollIntoView();\", more_button)\n",
    "    driver.execute_script(\"arguments[0].click();\", more_button)\n",
    "    time.sleep(3)\n",
    "\n"
   ]
  },
  {
   "cell_type": "code",
   "execution_count": null,
   "id": "b2364c84-4884-4a5f-8868-10cbd85a7d97",
   "metadata": {},
   "outputs": [],
   "source": [
    "response = driver.page_source\n",
    "soup = BeautifulSoup(response, \"html.parser\")"
   ]
  },
  {
   "cell_type": "code",
   "execution_count": null,
   "id": "540260ef-a80b-4016-be41-0b92461c2a22",
   "metadata": {},
   "outputs": [],
   "source": [
    "div = soup.find(\"div\", id=\"ui-outer\")\n",
    "articles=[]\n",
    "div2=div.find(\"div\", id=\"ui-inner\")\n",
    "section=div2.find(\"section\", class_=\"content news\")\n",
    "div3=section.find(\"div\",class_=\"pagearrange__layout pagearrange__layout--arrangeable pagearrange__layout--zippable full\")\n",
    "div4=div3.find(\"div\",class_=\"pagearrange__layout-row full\")\n",
    "ul=div4.find(\"ul\",class_=\"body flexposts\")\n",
    "for var in ul.find_all(\"li\"):\n",
    "    var_attr=var.find('a')\n",
    "    if var_attr and 'href' in var_attr.attrs:\n",
    "        title = var_attr['href']\n",
    "        driver.get(\"https://www.forexfactory.com/\"+title)\n",
    "        response2=driver.page_source\n",
    "        soup2 = BeautifulSoup(response2, \"html.parser\")\n",
    "        articles.append(soup2.find(\"li\",class_=\"news__article\").find(\"h1\").text.strip())\n",
    "        \n",
    "    "
   ]
  },
  {
   "cell_type": "code",
   "execution_count": null,
   "id": "f7ce7cc6-6353-40ce-9fc4-48a1a8dc60ba",
   "metadata": {},
   "outputs": [],
   "source": [
    "# Load FinBERT model\n",
    "finbert = pipeline(\"sentiment-analysis\", model=\"ProsusAI/finbert\")\n",
    "# Function to classify sentiment using FinBERT\n",
    "def classify_sentiment(text):\n",
    "    result = finbert(text)[0] \n",
    "    return result[\"label\"]  "
   ]
  },
  {
   "cell_type": "code",
   "execution_count": null,
   "id": "eed04af4-bd90-4036-a1e3-094d73e7622c",
   "metadata": {},
   "outputs": [],
   "source": [
    "df = pd.read_csv(\"data/forex_news.csv\")\n",
    "df = pd.concat([df, pd.DataFrame({'news': articles, 'labels': list(map(classify_sentiment, articles))})], axis=0, ignore_index=True)\n",
    "df = df.drop_duplicates().reset_index(drop=True)  "
   ]
  },
  {
   "cell_type": "code",
   "execution_count": null,
   "id": "12acd2de-a337-4e07-8d8b-afdb5ce5bee7",
   "metadata": {},
   "outputs": [],
   "source": [
    "df['news'] = df['news'].fillna('')\n",
    "df=df[['news', 'labels']]\n",
    "df.to_csv(\"data/forex_news.csv\")"
   ]
  },
  {
   "cell_type": "code",
   "execution_count": null,
   "id": "219f5bc2-e82f-43b3-83ca-a39c9616f152",
   "metadata": {},
   "outputs": [],
   "source": [
    "driver.quit()"
   ]
  }
 ],
 "metadata": {
  "kernelspec": {
   "display_name": "Python 3 (ipykernel)",
   "language": "python",
   "name": "python3"
  },
  "language_info": {
   "codemirror_mode": {
    "name": "ipython",
    "version": 3
   },
   "file_extension": ".py",
   "mimetype": "text/x-python",
   "name": "python",
   "nbconvert_exporter": "python",
   "pygments_lexer": "ipython3",
   "version": "3.11.5"
  }
 },
 "nbformat": 4,
 "nbformat_minor": 5
}
