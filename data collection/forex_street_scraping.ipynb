{
 "cells": [
  {
   "cell_type": "code",
   "execution_count": null,
   "id": "3530ec69-ad11-48fb-a354-7ab873c79e0b",
   "metadata": {},
   "outputs": [],
   "source": [
    "# Install packages \n",
    "import os\n",
    "import pandas as pd\n",
    "import time\n",
    "from transformers import pipeline\n",
    "from bs4 import BeautifulSoup\n",
    "from selenium import webdriver\n",
    "from selenium.webdriver.chrome.options import Options\n",
    "from selenium.webdriver.common.by import By\n",
    "from selenium.webdriver.support.ui import WebDriverWait\n",
    "from selenium.webdriver.chrome.service import Service\n",
    "from selenium.webdriver.support import expected_conditions as EC\n",
    "from fake_useragent import UserAgent\n",
    "import undetected_chromedriver as uc"
   ]
  },
  {
   "cell_type": "code",
   "execution_count": null,
   "id": "51ab6c6d-8638-4584-b0fc-b8bad7927eb1",
   "metadata": {},
   "outputs": [],
   "source": [
    "# URL of Forex Factory News\n",
    "chrome_options = Options()\n",
    "chrome_options.add_argument(\"--disable-blink-features=AutomationControlled\") "
   ]
  },
  {
   "cell_type": "code",
   "execution_count": null,
   "id": "b37b814a-c7fd-4164-b0c8-848e2686d5a8",
   "metadata": {},
   "outputs": [],
   "source": [
    "ua = UserAgent()\n",
    "chrome_options.add_argument(f\"user-agent={ua.random}\")"
   ]
  },
  {
   "cell_type": "code",
   "execution_count": null,
   "id": "7d56f479-ca52-45b2-93fe-cd134f75d9dd",
   "metadata": {},
   "outputs": [],
   "source": [
    "driver = uc.Chrome()\n",
    "articles=[]\n",
    "for i in range(0, 59):\n",
    "    url = f\"https://www.fxstreet.com/news?q=&hPP=17&idx=FxsIndexPro&p={i}\"\n",
    "    driver.get(url)\n",
    "    time.sleep(3)\n",
    "    response = driver.page_source\n",
    "    soup = BeautifulSoup(response, \"html.parser\")\n",
    "    for article in soup.find_all(\"div\",class_=\"fxs_floatingMedia_textBody\"):\n",
    "        articles.append(article.find('a').get_text(strip=True))"
   ]
  },
  {
   "cell_type": "code",
   "execution_count": null,
   "id": "b325200d-2974-4db6-b3b0-fbe30575bfe1",
   "metadata": {},
   "outputs": [],
   "source": [
    "# Load FinBERT model\n",
    "finbert = pipeline(\"sentiment-analysis\", model=\"ProsusAI/finbert\")\n",
    "# Function to classify sentiment using FinBERT\n",
    "def classify_sentiment(text):\n",
    "    result = finbert(text)[0] \n",
    "    return result[\"label\"]  "
   ]
  },
  {
   "cell_type": "code",
   "execution_count": null,
   "id": "946bb3c7-ef88-4dfe-b540-98f0c0842cd2",
   "metadata": {},
   "outputs": [],
   "source": [
    "df = pd.read_csv(\"data/forex_news.csv\")\n",
    "df = pd.concat([df, pd.DataFrame({'news': articles, 'labels': list(map(classify_sentiment, articles))})], axis=0, ignore_index=True)\n",
    "df = df.drop_duplicates().reset_index(drop=True)  "
   ]
  },
  {
   "cell_type": "code",
   "execution_count": null,
   "id": "388853f8-bf53-4173-b88d-8dd200813aad",
   "metadata": {},
   "outputs": [],
   "source": [
    "df['news'] = df['news'].fillna('')\n",
    "df=df[['news', 'labels']]\n",
    "df.to_csv(\"data/forex_news.csv\")"
   ]
  }
 ],
 "metadata": {
  "kernelspec": {
   "display_name": "Python 3 (ipykernel)",
   "language": "python",
   "name": "python3"
  },
  "language_info": {
   "codemirror_mode": {
    "name": "ipython",
    "version": 3
   },
   "file_extension": ".py",
   "mimetype": "text/x-python",
   "name": "python",
   "nbconvert_exporter": "python",
   "pygments_lexer": "ipython3",
   "version": "3.11.5"
  }
 },
 "nbformat": 4,
 "nbformat_minor": 5
}
