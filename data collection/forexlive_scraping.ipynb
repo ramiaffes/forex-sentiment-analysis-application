{
 "cells": [
  {
   "cell_type": "code",
   "execution_count": 1,
   "id": "7605f279-4e03-4cff-bcb3-b3e63cdc8d04",
   "metadata": {},
   "outputs": [
    {
     "name": "stderr",
     "output_type": "stream",
     "text": [
      "C:\\Users\\Admin\\AppData\\Roaming\\Python\\Python311\\site-packages\\tqdm\\auto.py:21: TqdmWarning: IProgress not found. Please update jupyter and ipywidgets. See https://ipywidgets.readthedocs.io/en/stable/user_install.html\n",
      "  from .autonotebook import tqdm as notebook_tqdm\n"
     ]
    }
   ],
   "source": [
    "# Install packages \n",
    "import os\n",
    "import pandas as pd\n",
    "import time\n",
    "import random\n",
    "from transformers import pipeline\n",
    "from bs4 import BeautifulSoup\n",
    "from selenium import webdriver\n",
    "from selenium.webdriver.chrome.options import Options\n",
    "from selenium.webdriver.common.by import By\n",
    "from selenium.webdriver.support.ui import WebDriverWait\n",
    "from selenium.webdriver.chrome.service import Service\n",
    "from selenium.webdriver.support import expected_conditions as EC\n",
    "from fake_useragent import UserAgent\n",
    "import undetected_chromedriver as uc\n",
    "from selenium.common.exceptions import TimeoutException, NoSuchElementException, ElementClickInterceptedException"
   ]
  },
  {
   "cell_type": "code",
   "execution_count": null,
   "id": "25d099f0-c83b-4a57-a5e7-2480f387924d",
   "metadata": {},
   "outputs": [],
   "source": [
    "# URL of Forex Factory News\n",
    "chrome_options = Options()\n",
    "url = \"https://www.forexfactory.com/news\"\n",
    "chrome_options.add_argument(\"--disable-blink-features=AutomationControlled\") "
   ]
  },
  {
   "cell_type": "code",
   "execution_count": null,
   "id": "0e19adc3-58ff-409d-a6ac-c63d58b299a0",
   "metadata": {},
   "outputs": [],
   "source": [
    "ua = UserAgent()\n",
    "chrome_options.add_argument(f\"user-agent={ua.random}\")"
   ]
  },
  {
   "cell_type": "code",
   "execution_count": null,
   "id": "fb466a63-271c-4290-bea4-25f692868b6d",
   "metadata": {},
   "outputs": [],
   "source": [
    "driver = uc.Chrome()\n",
    "driver.get(url)\n",
    "time.sleep(3)"
   ]
  },
  {
   "cell_type": "code",
   "execution_count": null,
   "id": "6e0951ba-50b0-4e1a-822f-0f6193122380",
   "metadata": {},
   "outputs": [],
   "source": [
    "driver.get(\"https://www.forexlive.com\")"
   ]
  },
  {
   "cell_type": "code",
   "execution_count": null,
   "id": "7af52882-df54-4c27-a380-529ccb8f4f47",
   "metadata": {},
   "outputs": [],
   "source": [
    "# Number of times to attempt clicking the button\n",
    "max_attempts = 50\n",
    "\n",
    "for attempt in range(max_attempts):\n",
    "    try:\n",
    "        print(f\"Attempt {attempt + 1}/{max_attempts}\")\n",
    "\n",
    "        # Wait for the button to be clickable\n",
    "        more_button = WebDriverWait(driver, 10).until(\n",
    "            EC.element_to_be_clickable((By.XPATH, \"//div[contains(@class, 'a-see-more-less all-news__see-more-less all-news__see-more-less')]\"))\n",
    "        )\n",
    "\n",
    "        # Add a random delay\n",
    "        time.sleep(3)\n",
    "\n",
    "        # Scroll to the button\n",
    "        driver.execute_script(\"arguments[0].scrollIntoView();\", more_button)\n",
    "        \n",
    "        # Add another random delay\n",
    "        time.sleep(3)\n",
    "\n",
    "        # Click the button\n",
    "        driver.execute_script(\"arguments[0].click();\", more_button)\n",
    "        \n",
    "        # Random delay after clicking\n",
    "        time.sleep(3)\n",
    "\n",
    "        response = driver.page_source\n",
    "\n",
    "    except (TimeoutException, NoSuchElementException, ElementClickInterceptedException) as e:\n",
    "        print(f\"Exception occurred on attempt {attempt + 1}: {e}\")\n",
    "        print(\"Button is no longer available or page has changed. Stopping script.\")\n",
    "        break  # Exit the loop when the button is not found or not clickable"
   ]
  },
  {
   "cell_type": "code",
   "execution_count": null,
   "id": "72081cde-bc93-468e-88bd-f903fc3bd3f5",
   "metadata": {},
   "outputs": [],
   "source": [
    "soup = BeautifulSoup(response, \"html.parser\")\n",
    "articles=[]\n",
    "for var in soup.find_all('a' , attrs={'data-v-5186c092': True}):\n",
    "    articles.append(var.get_text(strip=True))"
   ]
  },
  {
   "cell_type": "code",
   "execution_count": null,
   "id": "71d719a7-6505-4825-8160-0a9b19533b32",
   "metadata": {},
   "outputs": [],
   "source": [
    "# Load FinBERT model\n",
    "finbert = pipeline(\"sentiment-analysis\", model=\"ProsusAI/finbert\")\n",
    "# Function to classify sentiment using FinBERT\n",
    "def classify_sentiment(text):\n",
    "    result = finbert(text)[0] \n",
    "    return result[\"label\"]  "
   ]
  },
  {
   "cell_type": "code",
   "execution_count": null,
   "id": "1378f326-e452-4a9a-80be-9edcf23dc65d",
   "metadata": {},
   "outputs": [],
   "source": [
    "df = pd.read_csv(\"data/forex_news.csv\")\n",
    "df = pd.concat([df, pd.DataFrame({'news': articles, 'labels': list(map(classify_sentiment, articles))})], axis=0, ignore_index=True)\n",
    "df = df.drop_duplicates().reset_index(drop=True)  "
   ]
  },
  {
   "cell_type": "code",
   "execution_count": null,
   "id": "5923724e-750e-45a3-bf1f-fdce916d3d13",
   "metadata": {},
   "outputs": [],
   "source": [
    "df['news'] = df['news'].fillna('')\n",
    "df=df[['news', 'labels']]\n",
    "df.to_csv(\"data/forex_news.csv\")"
   ]
  }
 ],
 "metadata": {
  "kernelspec": {
   "display_name": "Python 3 (ipykernel)",
   "language": "python",
   "name": "python3"
  },
  "language_info": {
   "codemirror_mode": {
    "name": "ipython",
    "version": 3
   },
   "file_extension": ".py",
   "mimetype": "text/x-python",
   "name": "python",
   "nbconvert_exporter": "python",
   "pygments_lexer": "ipython3",
   "version": "3.11.5"
  }
 },
 "nbformat": 4,
 "nbformat_minor": 5
}
