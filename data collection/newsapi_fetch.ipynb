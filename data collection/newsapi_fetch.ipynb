{
 "cells": [
  {
   "cell_type": "code",
   "execution_count": 32,
   "id": "4f9520bb-2b64-4323-90b2-ec6ed6a0e686",
   "metadata": {},
   "outputs": [],
   "source": [
    "# Install packages \n",
    "import requests\n",
    "import os\n",
    "import pandas as pd\n",
    "from dotenv import load_dotenv\n",
    "import time\n",
    "from transformers import pipeline\n",
    "from langdetect import detect, DetectorFactory"
   ]
  },
  {
   "cell_type": "code",
   "execution_count": 2,
   "id": "de371615-a51b-4591-8557-30e2e7b93bbd",
   "metadata": {},
   "outputs": [],
   "source": [
    "# Load API keys from .env\n",
    "load_dotenv()\n",
    "NEWSAPI_KEY = os.getenv(\"NEWSAPI_KEY\")"
   ]
  },
  {
   "cell_type": "code",
   "execution_count": 3,
   "id": "afd27bfe-cbe5-4fa0-a602-8842be677fd9",
   "metadata": {},
   "outputs": [],
   "source": [
    "DetectorFactory.seed = 0  "
   ]
  },
  {
   "cell_type": "code",
   "execution_count": 4,
   "id": "11d9b49b-aa3d-4077-a8c9-a77d2fadc0bb",
   "metadata": {},
   "outputs": [],
   "source": [
    "# Define the NewsAPI endpoint for Forex news\n",
    "url = f\"https://newsapi.org/v2/everything?q=forex OR currency OR USD OR EUR OR forex trading&apiKey={NEWSAPI_KEY}\"\n",
    "\n",
    "# Send the request\n",
    "response = requests.get(url)\n",
    "\n",
    "# Convert response to JSON\n",
    "data = response.json()\n",
    "# Extract relevant fields from the API response\n",
    "if response.status_code == 200:\n",
    "    articles = data.get(\"articles\", [])\n",
    "    news_data = []\n",
    "    for article in articles:\n",
    "        try:\n",
    "            language = detect(article[\"title\"])\n",
    "            if language == \"en\": \n",
    "                news_data.append({\n",
    "                \"news\": article[\"title\"]\n",
    "                })\n",
    "        except:\n",
    "            pass\n",
    "    "
   ]
  },
  {
   "cell_type": "code",
   "execution_count": 10,
   "id": "0bf16dbe-8e46-4715-bd24-cbe30b66a9fa",
   "metadata": {},
   "outputs": [
    {
     "name": "stderr",
     "output_type": "stream",
     "text": [
      "C:\\Users\\Admin\\AppData\\Roaming\\Python\\Python311\\site-packages\\huggingface_hub\\file_download.py:797: FutureWarning: `resume_download` is deprecated and will be removed in version 1.0.0. Downloads always resume when possible. If you want to force a new download, use `force_download=True`.\n",
      "  warnings.warn(\n"
     ]
    }
   ],
   "source": [
    "# Load FinBERT model\n",
    "finbert = pipeline(\"sentiment-analysis\", model=\"ProsusAI/finbert\")\n",
    "# Function to classify sentiment using FinBERT\n",
    "def classify_sentiment(text):\n",
    "    result = finbert(text)[0] \n",
    "    return result[\"label\"]  "
   ]
  },
  {
   "cell_type": "code",
   "execution_count": 45,
   "id": "423ce3c9-bd8e-438f-bf39-b429bc6d1b3c",
   "metadata": {},
   "outputs": [],
   "source": [
    "df = pd.read_csv(\"data/forex_news.csv\")\n",
    "df = pd.concat([df, pd.DataFrame({'news': articles, 'labels': list(map(classify_sentiment, news_data))})], axis=0, ignore_index=True)\n",
    "df = df.drop_duplicates().reset_index(drop=True)  "
   ]
  },
  {
   "cell_type": "code",
   "execution_count": 46,
   "id": "ea5801c1-df90-48f3-a29e-33e1d2f92df1",
   "metadata": {},
   "outputs": [],
   "source": [
    "df['news'] = df['news'].fillna('')\n",
    "df=df[['news', 'labels']]\n",
    "df.to_csv(\"data/forex_news.csv\")"
   ]
  }
 ],
 "metadata": {
  "kernelspec": {
   "display_name": "Python 3 (ipykernel)",
   "language": "python",
   "name": "python3"
  },
  "language_info": {
   "codemirror_mode": {
    "name": "ipython",
    "version": 3
   },
   "file_extension": ".py",
   "mimetype": "text/x-python",
   "name": "python",
   "nbconvert_exporter": "python",
   "pygments_lexer": "ipython3",
   "version": "3.11.5"
  }
 },
 "nbformat": 4,
 "nbformat_minor": 5
}
